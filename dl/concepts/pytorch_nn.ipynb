{
 "cells": [
  {
   "cell_type": "markdown",
   "metadata": {},
   "source": [
    "# Introduction\n",
    "\n",
    "This notebook tries to cover most of the concepts learnt during the course, and applies them using PyTorch\n",
    "\n",
    "1. TODO: Input processing\n",
    "   1. Data Augmentation\n",
    "2. Network Topology\n",
    "   1. Layers\n",
    "   2. Activation Function\n",
    "   3. Loss Function\n",
    "3. Network Training (Optimization)\n",
    "   1. Hyperparameter Tuning\n",
    "   2. Weight Initialization"
   ]
  },
  {
   "cell_type": "markdown",
   "metadata": {},
   "source": [
    "# Input Processing"
   ]
  },
  {
   "cell_type": "code",
   "execution_count": 1,
   "metadata": {},
   "outputs": [],
   "source": [
    "import torch\n",
    "import torch.nn as nn\n",
    "import torchvision.datasets as datasets \n",
    "import torchvision.transforms as transforms"
   ]
  },
  {
   "cell_type": "code",
   "execution_count": 5,
   "metadata": {},
   "outputs": [],
   "source": [
    "# Hyperparameters\n",
    "\n",
    "input_size = 784        # Number of input neurons (image pixels): 28x28 = 784\n",
    "hidden_size = 400       # Number of hidden neurons\n",
    "out_size = 10           # Number of classes (0-9) \n",
    "epochs = 10             # How many times we pass our entire dataset into our network \n",
    "batch_size = 100        # Input size of the data during one iteration \n",
    "learning_rate = 0.001   # How fast we are learning"
   ]
  },
  {
   "cell_type": "code",
   "execution_count": 10,
   "metadata": {},
   "outputs": [
    {
     "data": {
      "text/plain": [
       "torch.Size([10000, 28, 28])"
      ]
     },
     "execution_count": 10,
     "metadata": {},
     "output_type": "execute_result"
    }
   ],
   "source": [
    "train_dataset = datasets.MNIST(root='./data',\n",
    "                           train=True,\n",
    "                           transform=transforms.ToTensor(),\n",
    "                           download=True)\n",
    "\n",
    "test_dataset = datasets.MNIST(root='./data',\n",
    "                           train=False,\n",
    "                           transform=transforms.ToTensor())\n",
    "\n",
    "train_dataset.data.shape\n",
    "test_dataset.data.shape"
   ]
  },
  {
   "cell_type": "markdown",
   "metadata": {},
   "source": [
    "We check the shape of downloaded training dataset, and find it has 60K images of 28x28, while test dataset has 10K images.\n",
    "\n",
    "Now, we use [PyTorch DataLoader](https://pytorch.org/docs/stable/data.html) to load the training and test datasets\n",
    "\n",
    "> **Batch Size** indicates the number of input samples used for a single **Iteration**"
   ]
  },
  {
   "cell_type": "code",
   "execution_count": 7,
   "metadata": {},
   "outputs": [
    {
     "data": {
      "text/plain": [
       "<torch.utils.data.dataloader.DataLoader at 0x1c44e4c1160>"
      ]
     },
     "execution_count": 7,
     "metadata": {},
     "output_type": "execute_result"
    }
   ],
   "source": [
    "train_loader = torch.utils.data.DataLoader(dataset=train_dataset,\n",
    "                                          batch_size=batch_size,\n",
    "                                          shuffle=True)\n",
    "\n",
    "test_loader = torch.utils.data.DataLoader(dataset=test_dataset,\n",
    "                                          batch_size=batch_size,\n",
    "                                          shuffle=False)"
   ]
  },
  {
   "cell_type": "markdown",
   "metadata": {},
   "source": [
    "# Network Topology\n",
    "\n",
    "Now, we define the network, as a class derived from [nn.Module](https://pytorch.org/docs/stable/generated/torch.nn.Module.html#torch.nn.Module)\n",
    "\n",
    "> [ReLU activation function](https://pytorch.org/docs/stable/generated/torch.nn.ReLU.html#torch.nn.ReLU) is used, and [Kaiming Normal Weights Initialization](https://pytorch.org/docs/stable/nn.init.html#torch.nn.init.kaiming_normal_) is used"
   ]
  },
  {
   "cell_type": "code",
   "execution_count": 12,
   "metadata": {},
   "outputs": [],
   "source": [
    "class Net(nn.Module):\n",
    "    def __init__(self, input_size, hidden_size, out_size):\n",
    "        super(Net, self).__init__()                    \n",
    "        self.fc1 = nn.Linear(input_size, hidden_size)    #First Layer                           \n",
    "        self.fc2 = nn.Linear(hidden_size, hidden_size)      #Second Layer Activation\n",
    "        self.fc3 = nn.Linear(hidden_size, out_size)\n",
    "        self.relu = nn.ReLU()\n",
    "        self.init_weights()\n",
    "        \n",
    "    def init_weights(self):\n",
    "        nn.init.kaiming_normal_(self.fc1.weight)\n",
    "        nn.init.kaiming_normal_(self.fc2.weight)\n",
    "        # OPEN: Why output layer weights are not initialized?\n",
    "\n",
    "    def forward(self, x):                          \n",
    "        out = self.fc1(x)\n",
    "        out = self.relu(out)\n",
    "        out = self.fc2(out)\n",
    "        out = self.relu(out)\n",
    "        out = self.fc3(out)\n",
    "        return out"
   ]
  },
  {
   "cell_type": "markdown",
   "metadata": {},
   "source": [
    "Now we define loss function and optimizer"
   ]
  },
  {
   "cell_type": "code",
   "execution_count": 13,
   "metadata": {},
   "outputs": [],
   "source": [
    "# Create an instance of the NN class defined above\n",
    "net = Net(input_size, hidden_size, out_size)\n",
    "\n",
    "# Check if CUDA can be used to speed up\n",
    "# TODO: Can we use OpenVINO?\n",
    "CUDA = torch.cuda.is_available()\n",
    "if CUDA:\n",
    "    net = net.cuda()\n",
    "\n",
    "#The loss function. The Cross Entropy loss comes along with Softmax. Therefore, no need to specify Softmax as well\n",
    "criterion = nn.CrossEntropyLoss()\n",
    "optimizer = torch.optim.Adam(net.parameters(), lr=learning_rate)"
   ]
  },
  {
   "cell_type": "markdown",
   "metadata": {},
   "source": [
    "# Network Training\n",
    "\n",
    "Mathematically, we're trying to find the optimal set of network weights, which lead to minimum loss (actual output - expected output)\n",
    "\n",
    "> For each batch of inputs, the outputs are evaluated, and loss in prediction calculated. The averaged loss is used to back-propagate the error and adjust the weights\n",
    "\n",
    "> Each epoch uses the entire training data. As more epochs complete, the expectation is that training error reduces"
   ]
  },
  {
   "cell_type": "code",
   "execution_count": 14,
   "metadata": {},
   "outputs": [
    {
     "name": "stdout",
     "output_type": "stream",
     "text": [
      "Epoch [1/10], Training Loss: 0.232, Training Accuracy: 93.320%\n",
      "Epoch [2/10], Training Loss: 0.087, Training Accuracy: 97.338%\n",
      "Epoch [3/10], Training Loss: 0.055, Training Accuracy: 98.227%\n",
      "Epoch [4/10], Training Loss: 0.039, Training Accuracy: 98.755%\n",
      "Epoch [5/10], Training Loss: 0.028, Training Accuracy: 99.092%\n",
      "Epoch [6/10], Training Loss: 0.023, Training Accuracy: 99.283%\n",
      "Epoch [7/10], Training Loss: 0.020, Training Accuracy: 99.362%\n",
      "Epoch [8/10], Training Loss: 0.019, Training Accuracy: 99.372%\n",
      "Epoch [9/10], Training Loss: 0.016, Training Accuracy: 99.468%\n",
      "Epoch [10/10], Training Loss: 0.013, Training Accuracy: 99.580%\n",
      "DONE TRAINING!\n"
     ]
    }
   ],
   "source": [
    "#Train the network\n",
    "for epoch in range(epochs):\n",
    "    correct_train = 0\n",
    "    running_loss = 0\n",
    "    for i, (images, labels) in enumerate(train_loader):   \n",
    "        #Flatten the image from size (batch,1,28,28) --> (100,1,28,28) where 1 represents the number of channels (grayscale-->1),\n",
    "        # to size (100,784) and wrap it in a variable\n",
    "        images = images.view(-1, 28*28)    \n",
    "        if CUDA:\n",
    "            images = images.cuda()\n",
    "            labels = labels.cuda()\n",
    "            \n",
    "        # Evaluate the network for batch of inputs\n",
    "        outputs = net(images)       \n",
    "\n",
    "        _, predicted = torch.max(outputs.data, 1)                                              \n",
    "        correct_train += (predicted == labels).sum()\n",
    "\n",
    "        # Evaluate the loss using specified loss function\n",
    "        loss = criterion(outputs, labels)                 # Difference between the actual and predicted (loss function)\n",
    "        running_loss += loss.item()\n",
    "\n",
    "        # Back propagation to adjust the weights for calculated loss\n",
    "        optimizer.zero_grad() \n",
    "        loss.backward()                                   # Backpropagation\n",
    "        optimizer.step()                                  # Update the weights\n",
    "        \n",
    "    print('Epoch [{}/{}], Training Loss: {:.3f}, Training Accuracy: {:.3f}%'.format\n",
    "          (epoch+1, epochs, running_loss/len(train_loader), (100*correct_train.double()/len(train_dataset))))\n",
    "print(\"DONE TRAINING!\")"
   ]
  }
 ],
 "metadata": {
  "kernelspec": {
   "display_name": "Python 3",
   "language": "python",
   "name": "python3"
  },
  "language_info": {
   "codemirror_mode": {
    "name": "ipython",
    "version": 3
   },
   "file_extension": ".py",
   "mimetype": "text/x-python",
   "name": "python",
   "nbconvert_exporter": "python",
   "pygments_lexer": "ipython3",
   "version": "3.9.7"
  }
 },
 "nbformat": 4,
 "nbformat_minor": 2
}
