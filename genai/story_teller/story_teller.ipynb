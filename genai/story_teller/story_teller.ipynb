{
 "cells": [
  {
   "cell_type": "markdown",
   "metadata": {},
   "source": [
    "# Story Teller"
   ]
  },
  {
   "cell_type": "code",
   "execution_count": 50,
   "metadata": {},
   "outputs": [],
   "source": [
    "from transformers import AutoModelForCausalLM, AutoTokenizer\n",
    "import torch"
   ]
  },
  {
   "cell_type": "markdown",
   "metadata": {},
   "source": [
    "Next, we configure the code by setting constants and hyper-parameters"
   ]
  },
  {
   "cell_type": "code",
   "execution_count": 61,
   "metadata": {},
   "outputs": [
    {
     "name": "stdout",
     "output_type": "stream",
     "text": [
      "Using model: gpt2\n"
     ]
    }
   ],
   "source": [
    "K_NAME = 'namer'\n",
    "K_HF_CARD_URL = 'url'\n",
    "K_CHAT_PROMPT = 'is_chat_prompt'\n",
    "\n",
    "model_configs = {\n",
    "    'gpt2': {\n",
    "        K_NAME: 'gpt2',\n",
    "        K_HF_CARD_URL: 'https://huggingface.co/meta-llama/Meta-Llama-3-8B-Instruct',\n",
    "        K_CHAT_PROMPT: False\n",
    "    },\n",
    "    'llama-3-8b-instruct': {\n",
    "        K_NAME: 'meta-llama/Meta-Llama-3-8B-Instruct',\n",
    "        K_HF_CARD_URL: '',\n",
    "        K_CHAT_PROMPT: True\n",
    "    }\n",
    "}\n",
    "\n",
    "config = 'gpt2'\n",
    "\n",
    "model_id = model_configs[config][K_NAME]\n",
    "print(f'Using model: {model_id}')"
   ]
  },
  {
   "cell_type": "code",
   "execution_count": 52,
   "metadata": {},
   "outputs": [],
   "source": [
    "INPUT_TEXT = 'I enjoy walking with my cute dog'"
   ]
  },
  {
   "cell_type": "code",
   "execution_count": 63,
   "metadata": {},
   "outputs": [],
   "source": [
    "tokenizer = AutoTokenizer.from_pretrained(model_id)"
   ]
  },
  {
   "cell_type": "code",
   "execution_count": 62,
   "metadata": {},
   "outputs": [
    {
     "data": {
      "text/plain": [
       "'cpu'"
      ]
     },
     "execution_count": 62,
     "metadata": {},
     "output_type": "execute_result"
    }
   ],
   "source": [
    "# add the EOS token as PAD token to avoid warnings\n",
    "model = AutoModelForCausalLM.from_pretrained(\n",
    "    model_id,\n",
    "    torch_dtype=torch.bfloat16,\n",
    "    pad_token_id=tokenizer.eos_token_id)\n",
    "\n",
    "model.device.type"
   ]
  },
  {
   "cell_type": "code",
   "execution_count": 59,
   "metadata": {},
   "outputs": [
    {
     "data": {
      "text/plain": [
       "tensor([[ 1639,   389,   257, 25868,  8537, 13645,   508,  1464, 20067,   287,\n",
       "         25868,  2740,     0, 50256,    40,  2883,  6155,   351,   616, 13779,\n",
       "          3290, 50256]])"
      ]
     },
     "execution_count": 59,
     "metadata": {},
     "output_type": "execute_result"
    }
   ],
   "source": [
    "# encode context the generation is conditioned on\n",
    "if model_configs[config][K_CHAT_PROMPT]:\n",
    "    messages = [\n",
    "        {\"role\": \"system\", \"content\": \"You are a pirate chatbot who always responds in pirate speak!\"},\n",
    "        {\"role\": \"user\", \"content\": INPUT_TEXT},\n",
    "    ]\n",
    "    tokens = tokenizer.apply_chat_template(\n",
    "        messages,\n",
    "        add_generation_prompt=True,\n",
    "        return_tensors=\"pt\"\n",
    "    ).to(model.device)\n",
    "else:\n",
    "    tokens = tokenizer(INPUT_TEXT, return_tensors='pt').to(model.device.type)\n",
    "tokens"
   ]
  },
  {
   "cell_type": "code",
   "execution_count": 60,
   "metadata": {},
   "outputs": [
    {
     "ename": "TypeError",
     "evalue": "transformers.generation.utils.GenerationMixin.generate() argument after ** must be a mapping, not Tensor",
     "output_type": "error",
     "traceback": [
      "\u001b[1;31m---------------------------------------------------------------------------\u001b[0m",
      "\u001b[1;31mTypeError\u001b[0m                                 Traceback (most recent call last)",
      "Cell \u001b[1;32mIn[60], line 2\u001b[0m\n\u001b[0;32m      1\u001b[0m \u001b[38;5;66;03m# generate 40 new tokens\u001b[39;00m\n\u001b[1;32m----> 2\u001b[0m output \u001b[38;5;241m=\u001b[39m model\u001b[38;5;241m.\u001b[39mgenerate(\u001b[38;5;241m*\u001b[39m\u001b[38;5;241m*\u001b[39mtokens, max_new_tokens\u001b[38;5;241m=\u001b[39m\u001b[38;5;241m40\u001b[39m, output_attentions\u001b[38;5;241m=\u001b[39m\u001b[38;5;28;01mTrue\u001b[39;00m)\n\u001b[0;32m      3\u001b[0m output\n",
      "\u001b[1;31mTypeError\u001b[0m: transformers.generation.utils.GenerationMixin.generate() argument after ** must be a mapping, not Tensor"
     ]
    }
   ],
   "source": [
    "# generate 40 new tokens\n",
    "output = model.generate(**tokens, max_new_tokens=40, output_attentions=True)\n",
    "output"
   ]
  },
  {
   "cell_type": "code",
   "execution_count": null,
   "metadata": {},
   "outputs": [],
   "source": [
    "print(\"Output:\\n\" + 100 * '-')\n",
    "print(tokenizer.decode(output[0], skip_special_tokens=True))"
   ]
  }
 ],
 "metadata": {
  "kernelspec": {
   "display_name": "Python 3",
   "language": "python",
   "name": "python3"
  },
  "language_info": {
   "codemirror_mode": {
    "name": "ipython",
    "version": 3
   },
   "file_extension": ".py",
   "mimetype": "text/x-python",
   "name": "python",
   "nbconvert_exporter": "python",
   "pygments_lexer": "ipython3",
   "version": "3.12.4"
  }
 },
 "nbformat": 4,
 "nbformat_minor": 2
}
