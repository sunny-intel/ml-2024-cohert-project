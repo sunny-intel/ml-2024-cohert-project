{
 "cells": [
  {
   "cell_type": "markdown",
   "metadata": {},
   "source": [
    "# Story Teller"
   ]
  },
  {
   "cell_type": "code",
   "execution_count": 50,
   "metadata": {},
   "outputs": [],
   "source": [
    "from transformers import AutoModelForCausalLM, AutoTokenizer\n",
    "import torch"
   ]
  },
  {
   "cell_type": "markdown",
   "metadata": {},
   "source": [
    "Next, we configure the code by setting constants and hyper-parameters"
   ]
  },
  {
   "cell_type": "code",
   "execution_count": 64,
   "metadata": {},
   "outputs": [
    {
     "name": "stdout",
     "output_type": "stream",
     "text": [
      "Using model: gpt2\n"
     ]
    }
   ],
   "source": [
    "K_NAME = 'namer'\n",
    "K_HF_CARD_URL = 'url'\n",
    "K_CHAT_PROMPT = 'is_chat_prompt'\n",
    "\n",
    "model_configs = {\n",
    "    'gpt2': {\n",
    "        K_NAME: 'gpt2',\n",
    "        K_HF_CARD_URL: 'https://huggingface.co/meta-llama/Meta-Llama-3-8B-Instruct',\n",
    "        K_CHAT_PROMPT: False\n",
    "    },\n",
    "    'llama-3-8b-instruct': {\n",
    "        K_NAME: 'meta-llama/Meta-Llama-3-8B-Instruct',\n",
    "        K_HF_CARD_URL: '',\n",
    "        K_CHAT_PROMPT: True\n",
    "    }\n",
    "}\n",
    "\n",
    "config = 'gpt2'\n",
    "\n",
    "model_id = model_configs[config][K_NAME]\n",
    "print(f'Using model: {model_id}')"
   ]
  },
  {
   "cell_type": "code",
   "execution_count": 52,
   "metadata": {},
   "outputs": [],
   "source": [
    "INPUT_TEXT = 'I enjoy walking with my cute dog'"
   ]
  },
  {
   "cell_type": "code",
   "execution_count": 63,
   "metadata": {},
   "outputs": [],
   "source": [
    "tokenizer = AutoTokenizer.from_pretrained(model_id)"
   ]
  },
  {
   "cell_type": "code",
   "execution_count": 62,
   "metadata": {},
   "outputs": [
    {
     "data": {
      "text/plain": [
       "'cpu'"
      ]
     },
     "execution_count": 62,
     "metadata": {},
     "output_type": "execute_result"
    }
   ],
   "source": [
    "# add the EOS token as PAD token to avoid warnings\n",
    "model = AutoModelForCausalLM.from_pretrained(\n",
    "    model_id,\n",
    "    torch_dtype=torch.bfloat16,\n",
    "    pad_token_id=tokenizer.eos_token_id)\n",
    "\n",
    "model.device.type"
   ]
  },
  {
   "cell_type": "code",
   "execution_count": 65,
   "metadata": {},
   "outputs": [
    {
     "data": {
      "text/plain": [
       "{'input_ids': tensor([[   40,  2883,  6155,   351,   616, 13779,  3290]]), 'attention_mask': tensor([[1, 1, 1, 1, 1, 1, 1]])}"
      ]
     },
     "execution_count": 65,
     "metadata": {},
     "output_type": "execute_result"
    }
   ],
   "source": [
    "# encode context the generation is conditioned on\n",
    "if model_configs[config][K_CHAT_PROMPT]:\n",
    "    messages = [\n",
    "        {\"role\": \"system\", \"content\": \"You are a pirate chatbot who always responds in pirate speak!\"},\n",
    "        {\"role\": \"user\", \"content\": INPUT_TEXT},\n",
    "    ]\n",
    "    tokens = tokenizer.apply_chat_template(\n",
    "        messages,\n",
    "        add_generation_prompt=True,\n",
    "        return_tensors=\"pt\"\n",
    "    ).to(model.device)\n",
    "else:\n",
    "    tokens = tokenizer(INPUT_TEXT, return_tensors='pt').to(model.device.type)\n",
    "tokens"
   ]
  },
  {
   "cell_type": "code",
   "execution_count": 66,
   "metadata": {},
   "outputs": [
    {
     "name": "stderr",
     "output_type": "stream",
     "text": [
      "Setting `pad_token_id` to `eos_token_id`:50256 for open-end generation.\n"
     ]
    },
    {
     "data": {
      "text/plain": [
       "tensor([[   40,  2883,  6155,   351,   616, 13779,  3290,    11,   290,   314,\n",
       "          1101,   257,  1263,  4336,   286,   262,  3290,  3952,    13,   314,\n",
       "          1053,   587,   284,   262,  3290,  3952,   257,  1178,  1661,    11,\n",
       "           290,   314,  1053,  1239,   587,   523,  6568,   284,   766,   262,\n",
       "          3290,  3952,    13,   198,   198,    40,  1053]])"
      ]
     },
     "execution_count": 66,
     "metadata": {},
     "output_type": "execute_result"
    }
   ],
   "source": [
    "# generate 40 new tokens\n",
    "output = model.generate(**tokens, max_new_tokens=40, output_attentions=True)\n",
    "output"
   ]
  },
  {
   "cell_type": "code",
   "execution_count": 67,
   "metadata": {},
   "outputs": [
    {
     "name": "stdout",
     "output_type": "stream",
     "text": [
      "Output:\n",
      "----------------------------------------------------------------------------------------------------\n",
      "I enjoy walking with my cute dog, and I'm a big fan of the dog park. I've been to the dog park a few times, and I've never been so excited to see the dog park.\n",
      "\n",
      "I've\n"
     ]
    }
   ],
   "source": [
    "print(\"Output:\\n\" + 100 * '-')\n",
    "print(tokenizer.decode(output[0], skip_special_tokens=True))"
   ]
  }
 ],
 "metadata": {
  "kernelspec": {
   "display_name": "Python 3",
   "language": "python",
   "name": "python3"
  },
  "language_info": {
   "codemirror_mode": {
    "name": "ipython",
    "version": 3
   },
   "file_extension": ".py",
   "mimetype": "text/x-python",
   "name": "python",
   "nbconvert_exporter": "python",
   "pygments_lexer": "ipython3",
   "version": "3.12.4"
  }
 },
 "nbformat": 4,
 "nbformat_minor": 2
}
